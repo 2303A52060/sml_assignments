{
  "nbformat": 4,
  "nbformat_minor": 0,
  "metadata": {
    "colab": {
      "provenance": [],
      "authorship_tag": "ABX9TyMX2tkOJRxy5PuN8V1M+VkZ",
      "include_colab_link": true
    },
    "kernelspec": {
      "name": "python3",
      "display_name": "Python 3"
    },
    "language_info": {
      "name": "python"
    }
  },
  "cells": [
    {
      "cell_type": "markdown",
      "metadata": {
        "id": "view-in-github",
        "colab_type": "text"
      },
      "source": [
        "<a href=\"https://colab.research.google.com/github/2303A52060/sml_assignments/blob/main/SML_A_10.ipynb\" target=\"_parent\"><img src=\"https://colab.research.google.com/assets/colab-badge.svg\" alt=\"Open In Colab\"/></a>"
      ]
    },
    {
      "cell_type": "markdown",
      "source": [
        "Assignment-10.\n",
        "\n",
        "Question 1:\n",
        "https://www.kaggle.com/datasets/kellistephenson/increasing-breast-cancer-awarenessLinks\n",
        "\n",
        "Read the data with pandas and find features and target variables\n",
        "\n",
        "Find target variable\n",
        "\n",
        "Train KNN model\n",
        "\n",
        "Find accuracy with different test sizes"
      ],
      "metadata": {
        "id": "SSQqsqGTp7Ok"
      }
    },
    {
      "cell_type": "code",
      "execution_count": 2,
      "metadata": {
        "colab": {
          "base_uri": "https://localhost:8080/"
        },
        "id": "DwdbSrKEp6GX",
        "outputId": "9584be64-9ac0-44e1-c27f-f806810abb1b"
      },
      "outputs": [
        {
          "output_type": "stream",
          "name": "stdout",
          "text": [
            "First 5 rows of the dataset:\n",
            "   Age  Gender  Protein1  Protein2  Protein3  Protein4 Tumour_Stage  \\\n",
            "0   42  FEMALE   0.95256   2.15000  0.007972 -0.048340           II   \n",
            "1   54  FEMALE   0.00000   1.38020 -0.498030 -0.507320           II   \n",
            "2   63  FEMALE  -0.52303   1.76400 -0.370190  0.010815           II   \n",
            "3   78  FEMALE  -0.87618   0.12943 -0.370380  0.132190            I   \n",
            "4   42  FEMALE   0.22611   1.74910 -0.543970 -0.390210           II   \n",
            "\n",
            "                       Histology ER status PR status HER2 status Surgery_type  \\\n",
            "0  Infiltrating Ductal Carcinoma  Positive  Positive    Negative        Other   \n",
            "1  Infiltrating Ductal Carcinoma  Positive  Positive    Negative        Other   \n",
            "2  Infiltrating Ductal Carcinoma  Positive  Positive    Negative   Lumpectomy   \n",
            "3  Infiltrating Ductal Carcinoma  Positive  Positive    Negative        Other   \n",
            "4  Infiltrating Ductal Carcinoma  Positive  Positive    Positive   Lumpectomy   \n",
            "\n",
            "  Date_of_Surgery Date_of_Last_Visit Patient_Status  \n",
            "0       20-May-18          26-Aug-18          Alive  \n",
            "1       26-Apr-18          25-Jan-19           Dead  \n",
            "2       24-Aug-18          08-Apr-20          Alive  \n",
            "3       16-Nov-18          28-Jul-20          Alive  \n",
            "4       12-Dec-18          05-Jan-19          Alive  \n",
            "\n",
            "Summary of the dataset:\n",
            "<class 'pandas.core.frame.DataFrame'>\n",
            "RangeIndex: 334 entries, 0 to 333\n",
            "Data columns (total 15 columns):\n",
            " #   Column              Non-Null Count  Dtype  \n",
            "---  ------              --------------  -----  \n",
            " 0   Age                 334 non-null    int64  \n",
            " 1   Gender              334 non-null    object \n",
            " 2   Protein1            334 non-null    float64\n",
            " 3   Protein2            334 non-null    float64\n",
            " 4   Protein3            334 non-null    float64\n",
            " 5   Protein4            334 non-null    float64\n",
            " 6   Tumour_Stage        334 non-null    object \n",
            " 7   Histology           334 non-null    object \n",
            " 8   ER status           334 non-null    object \n",
            " 9   PR status           334 non-null    object \n",
            " 10  HER2 status         334 non-null    object \n",
            " 11  Surgery_type        334 non-null    object \n",
            " 12  Date_of_Surgery     334 non-null    object \n",
            " 13  Date_of_Last_Visit  317 non-null    object \n",
            " 14  Patient_Status      321 non-null    object \n",
            "dtypes: float64(4), int64(1), object(10)\n",
            "memory usage: 39.3+ KB\n",
            "None\n",
            "\n",
            "Checking for missing values:\n",
            "Age                    0\n",
            "Gender                 0\n",
            "Protein1               0\n",
            "Protein2               0\n",
            "Protein3               0\n",
            "Protein4               0\n",
            "Tumour_Stage           0\n",
            "Histology              0\n",
            "ER status              0\n",
            "PR status              0\n",
            "HER2 status            0\n",
            "Surgery_type           0\n",
            "Date_of_Surgery        0\n",
            "Date_of_Last_Visit    17\n",
            "Patient_Status        13\n",
            "dtype: int64\n",
            "\n",
            "Target variable: 'Patient_Status'\n",
            "\n",
            "Feature variables:\n",
            "Index(['Age', 'Gender', 'Protein1', 'Protein2', 'Protein3', 'Protein4',\n",
            "       'Tumour_Stage', 'Histology', 'ER status', 'PR status', 'HER2 status',\n",
            "       'Surgery_type', 'Date_of_Surgery', 'Date_of_Last_Visit'],\n",
            "      dtype='object')\n"
          ]
        }
      ],
      "source": [
        "import pandas as pd\n",
        "\n",
        "# Load the dataset\n",
        "file_path = 'breast_cancer_survival.csv'\n",
        "data = pd.read_csv(file_path)\n",
        "\n",
        "# Display the first few rows of the data to understand its structure\n",
        "print(\"First 5 rows of the dataset:\")\n",
        "print(data.head())\n",
        "\n",
        "# Display a summary of the data (column names, data types, and non-null values)\n",
        "print(\"\\nSummary of the dataset:\")\n",
        "print(data.info())\n",
        "\n",
        "# Checking for missing values\n",
        "print(\"\\nChecking for missing values:\")\n",
        "print(data.isnull().sum())\n",
        "\n",
        "# Target Variable:\n",
        "# Assuming 'Patient_Status' is the target variable indicating Alive (1) or Dead (0).\n",
        "print(\"\\nTarget variable: 'Patient_Status'\")\n",
        "\n",
        "# Features: All other columns are features\n",
        "features = data.drop(['Patient_Status'], axis=1)\n",
        "print(\"\\nFeature variables:\")\n",
        "print(features.columns)\n"
      ]
    },
    {
      "cell_type": "code",
      "source": [
        "import pandas as pd\n",
        "from sklearn.model_selection import train_test_split\n",
        "from sklearn.ensemble import RandomForestClassifier\n",
        "from sklearn.metrics import accuracy_score\n",
        "\n",
        "# Load the dataset\n",
        "file_path = 'breast_cancer_survival.csv'\n",
        "data = pd.read_csv(file_path)\n",
        "\n",
        "# Preprocessing\n",
        "\n",
        "# Encoding the target variable (Alive = 1, Dead = 0)\n",
        "data['Patient_Status'] = data['Patient_Status'].map({'Alive': 1, 'Dead': 0})\n",
        "\n",
        "# Dropping columns that are not useful for model training (like dates)\n",
        "data_cleaned = data.drop(['Date_of_Surgery', 'Date_of_Last_Visit'], axis=1)\n",
        "\n",
        "# Encoding categorical variables using one-hot encoding (convert categorical to numerical)\n",
        "data_encoded = pd.get_dummies(data_cleaned, drop_first=True)\n",
        "\n",
        "# Dropping rows with missing values\n",
        "data_final_cleaned = data_encoded.dropna()\n",
        "\n",
        "# Splitting data into features (X) and target (y)\n",
        "X = data_final_cleaned.drop('Patient_Status', axis=1)\n",
        "y = data_final_cleaned['Patient_Status']\n",
        "\n",
        "# Function to train the model and evaluate accuracy for different test sizes\n",
        "def evaluate_model(test_size):\n",
        "  # Split the data into training and testing sets\n",
        "  X_train, X_test, y_train, y_test = train_test_split(X, y, test_size=test_size, random_state=42)\n",
        "  # Train a Random Forest classifier\n",
        "  clf = RandomForestClassifier(random_state=42)\n",
        "  clf.fit(X_train, y_train)\n",
        "  # Make predictions on the test set\n",
        "  y_pred = clf.predict(X_test)\n",
        "  # Calculate accuracy\n",
        "  accuracy = accuracy_score(y_test, y_pred)\n",
        "  return accuracy\n",
        "\n",
        "# Test the model with different test sizes\n",
        "test_sizes = [0.2, 0.3, 0.4]\n",
        "accuracies = {test_size: evaluate_model(test_size) for test_size in test_sizes}\n",
        "\n",
        "# Output the accuracies for different test sizes\n",
        "for test_size, accuracy in accuracies.items():\n",
        "  print(f\"Test size: {test_size}, Accuracy: {accuracy}\")"
      ],
      "metadata": {
        "colab": {
          "base_uri": "https://localhost:8080/"
        },
        "id": "sJqOeKKEt8CN",
        "outputId": "9b6f2777-faaf-4406-c948-09120cfd9aa2"
      },
      "execution_count": 10,
      "outputs": [
        {
          "output_type": "stream",
          "name": "stdout",
          "text": [
            "Test size: 0.2, Accuracy: 0.7692307692307693\n",
            "Test size: 0.3, Accuracy: 0.7525773195876289\n",
            "Test size: 0.4, Accuracy: 0.7364341085271318\n"
          ]
        }
      ]
    },
    {
      "cell_type": "markdown",
      "source": [
        "Question 2:\n",
        "\n",
        "https://www.kaggle.com/datasets/kellistephenson/increasing-breast-cancer-awarenessLinks\n",
        "\n",
        "Implement SVM using pre-defied library. Analysis of different training and testing splits ranges, and find the accuracy. By taking test-size as [20, 25, 30, 35] compute the result."
      ],
      "metadata": {
        "id": "dOhlQ3_kumo7"
      }
    },
    {
      "cell_type": "code",
      "source": [
        "import pandas as pd\n",
        "from sklearn.model_selection import train_test_split\n",
        "from sklearn.svm import SVC\n",
        "from sklearn.metrics import accuracy_score\n",
        "import matplotlib.pyplot as plt\n",
        "from sklearn.preprocessing import LabelEncoder # Import LabelEncoder for encoding categorical features\n",
        "\n",
        "\n",
        "# Load the dataset\n",
        "data = pd.read_csv('breast_cancer_survival.csv')  # Update with actual path\n",
        "# data = pd.read_csv(file_path) # This line seems redundant as you already loaded the data above.\n",
        "\n",
        "# Prepare features and labels\n",
        "X = data.drop('Age', axis=1)  # Update with actual label column\n",
        "y = data['Age']  # Update with actual label column\n",
        "\n",
        "# Initialize LabelEncoder\n",
        "label_encoder = LabelEncoder()\n",
        "\n",
        "# Iterate through columns and encode categorical features\n",
        "for column in X.columns:\n",
        "    if X[column].dtype == 'object':  # Check if the column is of object type (categorical)\n",
        "        X[column] = label_encoder.fit_transform(X[column]) # Encode the categorical feature\n",
        "\n",
        "# Analyze different test sizes\n",
        "test_sizes = [0.2, 0.25, 0.3, 0.35]  # 20%, 25%, 30%, 35%\n",
        "results = {}\n",
        "\n",
        "for test_size in test_sizes:\n",
        "    X_train, X_test, Y_train, y_test = train_test_split(X, y, test_size=test_size, random_state=42)\n",
        "    model = SVC(kernel='linear')  # Linear kernel\n",
        "\n",
        "    # Fit the model using X_train and Y_train (not y_test)\n",
        "    model.fit(X_train, Y_train) # Corrected this line to use Y_train for training\n",
        "\n",
        "    y_pred = model.predict(X_test)\n",
        "    accuracy = accuracy_score(y_test, y_pred)\n",
        "    results[test_size] = accuracy\n",
        "    print(f'Test Size: {test_size * 100}%, Accuracy: {accuracy:.4f}')\n",
        "\n",
        "# Visualize the results\n",
        "test_sizes_percentage = [size * 100 for size in test_sizes]\n",
        "accuracies = [results[size] for size in test_sizes]\n",
        "\n",
        "plt.plot(test_sizes_percentage, accuracies, marker='o')\n",
        "plt.title('SVM Accuracy for Different Test Sizes')\n",
        "plt.xlabel('Test Size (%)')\n",
        "plt.ylabel('Accuracy')\n",
        "plt.xticks(test_sizes_percentage)\n",
        "plt.ylim(0, 1)\n",
        "plt.grid()\n",
        "plt.show()"
      ],
      "metadata": {
        "id": "f30B287fu5sz",
        "outputId": "172c4cc9-3418-42e3-904f-fc3b6bfb4e38",
        "colab": {
          "base_uri": "https://localhost:8080/",
          "height": 541
        }
      },
      "execution_count": 15,
      "outputs": [
        {
          "output_type": "stream",
          "name": "stdout",
          "text": [
            "Test Size: 20.0%, Accuracy: 0.0896\n",
            "Test Size: 25.0%, Accuracy: 0.0476\n",
            "Test Size: 30.0%, Accuracy: 0.0297\n",
            "Test Size: 35.0%, Accuracy: 0.0342\n"
          ]
        },
        {
          "output_type": "display_data",
          "data": {
            "text/plain": [
              "<Figure size 640x480 with 1 Axes>"
            ],
            "image/png": "[encoded data removed]"
          },
          "metadata": {}
        }
      ]
    }
  ]
}