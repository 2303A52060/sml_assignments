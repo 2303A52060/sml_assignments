{
  "nbformat": 4,
  "nbformat_minor": 0,
  "metadata": {
    "colab": {
      "provenance": [],
      "authorship_tag": "ABX9TyMfysKqvSoVv5QWwxC96ud9",
      "include_colab_link": true
    },
    "kernelspec": {
      "name": "python3",
      "display_name": "Python 3"
    },
    "language_info": {
      "name": "python"
    }
  },
  "cells": [
    {
      "cell_type": "markdown",
      "metadata": {
        "id": "view-in-github",
        "colab_type": "text"
      },
      "source": [
        "<a href=\"https://colab.research.google.com/github/2303A52060/sml_assignments/blob/main/SML_A_11.ipynb\" target=\"_parent\"><img src=\"https://colab.research.google.com/assets/colab-badge.svg\" alt=\"Open In Colab\"/></a>"
      ]
    },
    {
      "cell_type": "code",
      "execution_count": 3,
      "metadata": {
        "colab": {
          "base_uri": "https://localhost:8080/"
        },
        "id": "BDA8IutItu7l",
        "outputId": "7987592e-c1b4-4068-b753-0c9edda069b5"
      },
      "outputs": [
        {
          "output_type": "stream",
          "name": "stdout",
          "text": [
            "Accuracies on original data:\n",
            " {'SVM': 0.7761194029850746, 'KNN': 0.7313432835820896, 'Logistic Regression': 0.7761194029850746}\n",
            "Accuracies on PCA-reduced data:\n",
            " {'SVM': 0.7761194029850746, 'KNN': 0.7313432835820896, 'Logistic Regression': 0.7761194029850746}\n"
          ]
        }
      ],
      "source": [
        "import pandas as pd\n",
        "from sklearn.model_selection import train_test_split\n",
        "from sklearn.preprocessing import LabelEncoder, StandardScaler\n",
        "from sklearn.svm import SVC\n",
        "from sklearn.neighbors import KNeighborsClassifier\n",
        "from sklearn.linear_model import LogisticRegression\n",
        "from sklearn.metrics import accuracy_score\n",
        "from sklearn.decomposition import PCA\n",
        "data = pd.read_csv('breast_cancer_survival (1).csv')\n",
        "data_encoded = data.copy()\n",
        "label_encoders = {}\n",
        "label_encoders['Patient_Status'] = LabelEncoder()\n",
        "data_encoded['Patient_Status'] = label_encoders['Patient_Status'].fit_transform(data['Patient_Status'])\n",
        "categorical_cols = ['Gender', 'Tumour_Stage', 'Histology', 'ER status', 'PR status', 'HER2 status', 'Surgery_type']\n",
        "for col in categorical_cols:\n",
        "    le = LabelEncoder()\n",
        "    data_encoded[col] = le.fit_transform(data[col])\n",
        "    label_encoders[col] = le\n",
        "X = data_encoded.drop(columns=['Patient_Status', 'Date_of_Surgery', 'Date_of_Last_Visit'])\n",
        "y = data_encoded['Patient_Status']\n",
        "scaler = StandardScaler()\n",
        "X_scaled = scaler.fit_transform(X)\n",
        "X_train, X_test, y_train, y_test = train_test_split(X_scaled, y, test_size=0.2, random_state=42)\n",
        "models = {\n",
        "    'SVM': SVC(),\n",
        "    'KNN': KNeighborsClassifier(),\n",
        "    'Logistic Regression': LogisticRegression(max_iter=1000)\n",
        "}\n",
        "accuracies = {}\n",
        "for model_name, model in models.items():\n",
        "    model.fit(X_train, y_train)\n",
        "    y_pred = model.predict(X_test)\n",
        "    accuracies[model_name] = accuracy_score(y_test, y_pred)\n",
        "\n",
        "print(\"Accuracies on original data:\\n\", accuracies)\n",
        "pca = PCA(n_components=0.95)\n",
        "X_pca = pca.fit_transform(X_scaled)\n",
        "X_train_pca, X_test_pca, y_train_pca, y_test_pca = train_test_split(X_pca, y, test_size=0.2, random_state=42)\n",
        "pca_accuracies = {}\n",
        "for model_name, model in models.items():\n",
        "    model.fit(X_train_pca, y_train_pca)\n",
        "    y_pred_pca = model.predict(X_test_pca)\n",
        "    pca_accuracies[model_name] = accuracy_score(y_test_pca, y_pred_pca)\n",
        "print(\"Accuracies on PCA-reduced data:\\n\", pca_accuracies)"
      ]
    }
  ]
}